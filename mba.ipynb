{
  "nbformat": 4,
  "nbformat_minor": 0,
  "metadata": {
    "colab": {
      "provenance": [],
      "toc_visible": true,
      "include_colab_link": true
    },
    "kernelspec": {
      "name": "python3",
      "display_name": "Python 3"
    },
    "language_info": {
      "name": "python"
    }
  },
  "cells": [
    {
      "cell_type": "markdown",
      "metadata": {
        "id": "view-in-github",
        "colab_type": "text"
      },
      "source": [
        "<a href=\"https://colab.research.google.com/github/wendy1305/Justificativa-de-faltas/blob/main/mba.ipynb\" target=\"_parent\"><img src=\"https://colab.research.google.com/assets/colab-badge.svg\" alt=\"Open In Colab\"/></a>"
      ]
    },
    {
      "cell_type": "code",
      "execution_count": 62,
      "metadata": {
        "id": "cBQlijdjWR9y"
      },
      "outputs": [],
      "source": [
        "#importando librerias\n",
        "\n",
        "from sklearn.preprocessing import OneHotEncoder\n",
        "import pandas as pd\n",
        "import matplotlib.pyplot as plt\n",
        "import seaborn as sns\n",
        "import os\n",
        "#!pip install openpyxl"
      ]
    },
    {
      "cell_type": "code",
      "source": [
        "#Cargando datos\n",
        "###df=pd.read_csv(\"/home/HUAYAO.CSV\")\n",
        "#Cargando datos\n",
        "df = pd.read_csv(\"/home/HUAYAO.CSV\", encoding=\"latin-1\", sep=\";\") # Try reading the file with Latin-1 encoding\n",
        "df.drop(['ANO', 'MES'], axis=1, inplace=True)\n",
        "print(df)"
      ],
      "metadata": {
        "colab": {
          "base_uri": "https://localhost:8080/"
        },
        "id": "eHgD0_fHfTyg",
        "outputId": "3a5a65fc-15d0-4d84-f26d-874fd5ce33d0"
      },
      "execution_count": 66,
      "outputs": [
        {
          "output_type": "stream",
          "name": "stdout",
          "text": [
            "           FECHA  TMAX   TMIN  PRECIPITACION  HUMEDAD  ALTITUD      LATITUD   \\\n",
            "0      1/01/2009   17.7   7.1            7.5     81.0      3360  12° 2' 18''   \n",
            "1      2/01/2009   19.6   8.5            0.5     83.0      3360  12° 2' 18''   \n",
            "2      3/01/2009   20.0   9.0           23.3     68.0      3360  12° 2' 18''   \n",
            "3      4/01/2009   18.8   7.5            6.8     77.0      3360  12° 2' 18''   \n",
            "4      5/01/2009   19.1   6.8            2.6     77.0      3360  12° 2' 18''   \n",
            "...          ...    ...   ...            ...      ...       ...          ...   \n",
            "5470  27/12/2023   19.6   8.0           20.9     94.0      3360  12° 2' 18''   \n",
            "5471  28/12/2023   17.6   7.0            1.6     96.0      3360  12° 2' 18''   \n",
            "5472  29/12/2023   20.6   7.0            0.6     81.0      3360  12° 2' 18''   \n",
            "5473  30/12/2023   19.2   7.0           15.3     91.0      3360  12° 2' 18''   \n",
            "5474  31/12/2023   18.6   8.0            0.2     99.0      3360  12° 2' 18''   \n",
            "\n",
            "          LONGITUD  \n",
            "0     75° 20' 17''  \n",
            "1     75° 20' 17''  \n",
            "2     75° 20' 17''  \n",
            "3     75° 20' 17''  \n",
            "4     75° 20' 17''  \n",
            "...            ...  \n",
            "5470  75° 20' 17''  \n",
            "5471  75° 20' 17''  \n",
            "5472  75° 20' 17''  \n",
            "5473  75° 20' 17''  \n",
            "5474  75° 20' 17''  \n",
            "\n",
            "[5475 rows x 8 columns]\n"
          ]
        }
      ]
    },
    {
      "cell_type": "code",
      "source": [
        "#cambiar el formato de fecha usando one hot que significa em transformá-las em variáveis(colunas) e binárias.\n",
        "df['FECHA'] = pd.to_datetime(df['FECHA'], format='%d/%m/%Y')\n",
        "df['day'] = df['FECHA'].dt.day\n",
        "df['month'] = df['FECHA'].dt.month\n",
        "df['year'] = df['FECHA'].dt.year\n",
        "\n",
        "\n"
      ],
      "metadata": {
        "id": "oFC1-KhBa39R"
      },
      "execution_count": 67,
      "outputs": []
    },
    {
      "cell_type": "code",
      "source": [
        "all_days = list(range(1, 32))  # Días del 1 al 31\n",
        "all_months = list(range(1, 13))  # Meses del 1 al 12\n",
        "all_years = list(range(df['year'].min(), df['year'].max() + 1))  # Años presentes en el dataset\n"
      ],
      "metadata": {
        "id": "CXFmw4VDfuhv"
      },
      "execution_count": 68,
      "outputs": []
    },
    {
      "cell_type": "code",
      "source": [
        "encoder_day = OneHotEncoder(categories=[all_days], sparse=False, handle_unknown='ignore')\n",
        "encoder_month = OneHotEncoder(categories=[all_months], sparse=False, handle_unknown='ignore')\n",
        "encoder_year = OneHotEncoder(categories=[all_years], sparse=False, handle_unknown='ignore')\n"
      ],
      "metadata": {
        "id": "PBY3yLWucxuF"
      },
      "execution_count": 69,
      "outputs": []
    },
    {
      "cell_type": "code",
      "source": [
        "encoded_day = encoder_day.fit_transform(df[['day']])\n",
        "encoded_month = encoder_month.fit_transform(df[['month']])\n",
        "encoded_year = encoder_year.fit_transform(df[['year']])"
      ],
      "metadata": {
        "colab": {
          "base_uri": "https://localhost:8080/"
        },
        "id": "JSM1giOrfyfd",
        "outputId": "570f736a-9ace-4201-acea-3a5a340d7b07"
      },
      "execution_count": 70,
      "outputs": [
        {
          "output_type": "stream",
          "name": "stderr",
          "text": [
            "/usr/local/lib/python3.10/dist-packages/sklearn/preprocessing/_encoders.py:868: FutureWarning: `sparse` was renamed to `sparse_output` in version 1.2 and will be removed in 1.4. `sparse_output` is ignored unless you leave `sparse` to its default value.\n",
            "  warnings.warn(\n",
            "/usr/local/lib/python3.10/dist-packages/sklearn/preprocessing/_encoders.py:868: FutureWarning: `sparse` was renamed to `sparse_output` in version 1.2 and will be removed in 1.4. `sparse_output` is ignored unless you leave `sparse` to its default value.\n",
            "  warnings.warn(\n",
            "/usr/local/lib/python3.10/dist-packages/sklearn/preprocessing/_encoders.py:868: FutureWarning: `sparse` was renamed to `sparse_output` in version 1.2 and will be removed in 1.4. `sparse_output` is ignored unless you leave `sparse` to its default value.\n",
            "  warnings.warn(\n"
          ]
        }
      ]
    },
    {
      "cell_type": "code",
      "source": [
        "encoded_day_df = pd.DataFrame(encoded_day, columns=[f'day_{int(i)}' for i in encoder_day.categories_[0]])\n",
        "encoded_month_df = pd.DataFrame(encoded_month, columns=[f'month_{int(i)}' for i in encoder_month.categories_[0]])\n",
        "encoded_year_df = pd.DataFrame(encoded_year, columns=[f'year_{int(i)}' for i in encoder_year.categories_[0]])\n"
      ],
      "metadata": {
        "id": "xnIH7Vtkfp_k"
      },
      "execution_count": 71,
      "outputs": []
    },
    {
      "cell_type": "code",
      "source": [
        "# Concatenar los DataFrames originales y codificados\n",
        "df_encoded = pd.concat([df, encoded_day_df, encoded_month_df, encoded_year_df], axis=1)\n",
        "df_encoded.drop(['FECHA', 'day', 'month', 'year'], axis=1, inplace=True)"
      ],
      "metadata": {
        "id": "PbQDRxjGflvr"
      },
      "execution_count": 74,
      "outputs": []
    },
    {
      "cell_type": "code",
      "source": [
        "print(df_encoded.columns)"
      ],
      "metadata": {
        "colab": {
          "base_uri": "https://localhost:8080/"
        },
        "id": "F1dABGYTfSbM",
        "outputId": "4ea836ca-7935-4480-d3c5-e5d15dc50d61"
      },
      "execution_count": 94,
      "outputs": [
        {
          "output_type": "stream",
          "name": "stdout",
          "text": [
            "Index(['TMAX ', 'TMIN', 'PRECIPITACION', 'HUMEDAD', 'ALTITUD ', 'LATITUD ',\n",
            "       'LONGITUD', 'day_1', 'day_2', 'day_3', 'day_4', 'day_5', 'day_6',\n",
            "       'day_7', 'day_8', 'day_9', 'day_10', 'day_11', 'day_12', 'day_13',\n",
            "       'day_14', 'day_15', 'day_16', 'day_17', 'day_18', 'day_19', 'day_20',\n",
            "       'day_21', 'day_22', 'day_23', 'day_24', 'day_25', 'day_26', 'day_27',\n",
            "       'day_28', 'day_29', 'day_30', 'day_31', 'month_1', 'month_2', 'month_3',\n",
            "       'month_4', 'month_5', 'month_6', 'month_7', 'month_8', 'month_9',\n",
            "       'month_10', 'month_11', 'month_12', 'year_2009', 'year_2010',\n",
            "       'year_2011', 'year_2012', 'year_2013', 'year_2014', 'year_2015',\n",
            "       'year_2016', 'year_2017', 'year_2018', 'year_2019', 'year_2020',\n",
            "       'year_2021', 'year_2022', 'year_2023'],\n",
            "      dtype='object')\n"
          ]
        }
      ]
    },
    {
      "cell_type": "code",
      "source": [
        "# Eliminar los espacios al final de los nombres de las columnas\n",
        "df_encoded.columns = df_encoded.columns.str.strip()\n",
        "\n",
        "# Ahora debería poder acceder a la columna LATITUD sin problema\n",
        "print(df_encoded['LATITUD'])"
      ],
      "metadata": {
        "colab": {
          "base_uri": "https://localhost:8080/"
        },
        "id": "ZZlEh1MNq2Yc",
        "outputId": "5ea46866-ff29-4cf7-c7ae-a5410c53867c"
      },
      "execution_count": 96,
      "outputs": [
        {
          "output_type": "stream",
          "name": "stdout",
          "text": [
            "0       12° 2' 18''\n",
            "1       12° 2' 18''\n",
            "2       12° 2' 18''\n",
            "3       12° 2' 18''\n",
            "4       12° 2' 18''\n",
            "           ...     \n",
            "5470    12° 2' 18''\n",
            "5471    12° 2' 18''\n",
            "5472    12° 2' 18''\n",
            "5473    12° 2' 18''\n",
            "5474    12° 2' 18''\n",
            "Name: LATITUD, Length: 5475, dtype: object\n"
          ]
        }
      ]
    },
    {
      "cell_type": "markdown",
      "source": [
        "# SEPARANDO  LATITUD Y LONGITUD\n"
      ],
      "metadata": {
        "id": "ZZwIXlQDWjDa"
      }
    },
    {
      "cell_type": "code",
      "source": [
        "def dms_to_dd(dms):\n",
        "    # Separar grados, minutos y segundos\n",
        "    parts = dms.split()\n",
        "    degrees = float(parts[0][:-1])\n",
        "    minutes = float(parts[1][:-1])\n",
        "    seconds = float(parts[2][:-2])\n",
        "\n",
        "    # Convertir a decimal\n",
        "    dd = degrees + minutes / 60 + seconds / 3600\n",
        "    return dd"
      ],
      "metadata": {
        "id": "rBwf7fkutc2g"
      },
      "execution_count": 97,
      "outputs": []
    },
    {
      "cell_type": "code",
      "source": [
        "data = {\n",
        "    'LATITUD': [\"12° 2' 18''\"],\n",
        "    'LONGITUD': [\"75° 20' 17''\"]\n",
        "}\n",
        "\n",
        "df = pd.DataFrame(data)\n",
        "\n",
        "# Aplicar la función de conversión a las columnas de latitud y longitud\n",
        "df_encoded['LATITUD'] = df_encoded['LATITUD'].apply(dms_to_dd)\n",
        "df_encoded['LONGITUD'] = df_encoded['LONGITUD'].apply(dms_to_dd)\n",
        "\n",
        "# Verificar los resultados\n",
        "print(df_encoded.head())"
      ],
      "metadata": {
        "id": "gSFwx7GQtfa1",
        "colab": {
          "base_uri": "https://localhost:8080/"
        },
        "outputId": "b584ec16-f719-4f9e-c570-3ff762c3a2f2"
      },
      "execution_count": 98,
      "outputs": [
        {
          "output_type": "stream",
          "name": "stdout",
          "text": [
            "   TMAX  TMIN  PRECIPITACION  HUMEDAD  ALTITUD    LATITUD   LONGITUD  day_1  \\\n",
            "0  17.7   7.1            7.5     81.0     3360  12.038333  75.338056    1.0   \n",
            "1  19.6   8.5            0.5     83.0     3360  12.038333  75.338056    0.0   \n",
            "2  20.0   9.0           23.3     68.0     3360  12.038333  75.338056    0.0   \n",
            "3  18.8   7.5            6.8     77.0     3360  12.038333  75.338056    0.0   \n",
            "4  19.1   6.8            2.6     77.0     3360  12.038333  75.338056    0.0   \n",
            "\n",
            "   day_2  day_3  ...  year_2014  year_2015  year_2016  year_2017  year_2018  \\\n",
            "0    0.0    0.0  ...        0.0        0.0        0.0        0.0        0.0   \n",
            "1    1.0    0.0  ...        0.0        0.0        0.0        0.0        0.0   \n",
            "2    0.0    1.0  ...        0.0        0.0        0.0        0.0        0.0   \n",
            "3    0.0    0.0  ...        0.0        0.0        0.0        0.0        0.0   \n",
            "4    0.0    0.0  ...        0.0        0.0        0.0        0.0        0.0   \n",
            "\n",
            "   year_2019  year_2020  year_2021  year_2022  year_2023  \n",
            "0        0.0        0.0        0.0        0.0        0.0  \n",
            "1        0.0        0.0        0.0        0.0        0.0  \n",
            "2        0.0        0.0        0.0        0.0        0.0  \n",
            "3        0.0        0.0        0.0        0.0        0.0  \n",
            "4        0.0        0.0        0.0        0.0        0.0  \n",
            "\n",
            "[5 rows x 65 columns]\n"
          ]
        }
      ]
    },
    {
      "cell_type": "code",
      "source": [
        "#AUMENTANDO LA COLUMNA HELADA\n",
        "df_encoded['HELADA'] = df_encoded['TMIN'].apply(lambda x: 1 if x <= 0 else 0)\n",
        "\n",
        "# Verificar los resultados\n",
        "print(df_encoded[['TMIN', 'HELADA']])\n"
      ],
      "metadata": {
        "colab": {
          "base_uri": "https://localhost:8080/"
        },
        "id": "ICEJ_gzosPsR",
        "outputId": "d96f6d57-3470-4414-9bd5-fac599720abe"
      },
      "execution_count": 101,
      "outputs": [
        {
          "output_type": "stream",
          "name": "stdout",
          "text": [
            "      TMIN  HELADA\n",
            "0      7.1       0\n",
            "1      8.5       0\n",
            "2      9.0       0\n",
            "3      7.5       0\n",
            "4      6.8       0\n",
            "...    ...     ...\n",
            "5470   8.0       0\n",
            "5471   7.0       0\n",
            "5472   7.0       0\n",
            "5473   7.0       0\n",
            "5474   8.0       0\n",
            "\n",
            "[5475 rows x 2 columns]\n"
          ]
        }
      ]
    },
    {
      "cell_type": "code",
      "source": [
        "print(df_encoded.columns)"
      ],
      "metadata": {
        "colab": {
          "base_uri": "https://localhost:8080/"
        },
        "id": "aOFb4lMesYVQ",
        "outputId": "7b231769-b4ed-4e01-c9dc-06d3393c519a"
      },
      "execution_count": 102,
      "outputs": [
        {
          "output_type": "stream",
          "name": "stdout",
          "text": [
            "Index(['TMAX', 'TMIN', 'PRECIPITACION', 'HUMEDAD', 'ALTITUD', 'LATITUD',\n",
            "       'LONGITUD', 'day_1', 'day_2', 'day_3', 'day_4', 'day_5', 'day_6',\n",
            "       'day_7', 'day_8', 'day_9', 'day_10', 'day_11', 'day_12', 'day_13',\n",
            "       'day_14', 'day_15', 'day_16', 'day_17', 'day_18', 'day_19', 'day_20',\n",
            "       'day_21', 'day_22', 'day_23', 'day_24', 'day_25', 'day_26', 'day_27',\n",
            "       'day_28', 'day_29', 'day_30', 'day_31', 'month_1', 'month_2', 'month_3',\n",
            "       'month_4', 'month_5', 'month_6', 'month_7', 'month_8', 'month_9',\n",
            "       'month_10', 'month_11', 'month_12', 'year_2009', 'year_2010',\n",
            "       'year_2011', 'year_2012', 'year_2013', 'year_2014', 'year_2015',\n",
            "       'year_2016', 'year_2017', 'year_2018', 'year_2019', 'year_2020',\n",
            "       'year_2021', 'year_2022', 'year_2023', 'HELADA'],\n",
            "      dtype='object')\n"
          ]
        }
      ]
    },
    {
      "cell_type": "markdown",
      "source": [
        "MODELAGEM"
      ],
      "metadata": {
        "id": "5Kj9R3OIuJ9w"
      }
    },
    {
      "cell_type": "code",
      "source": [
        "import pandas as pd\n",
        "from sklearn.model_selection import train_test_split, cross_val_score, GridSearchCV\n",
        "from sklearn.linear_model import LogisticRegression\n",
        "from sklearn.ensemble import RandomForestClassifier, GradientBoostingClassifier\n",
        "from sklearn.neural_network import MLPClassifier\n",
        "from sklearn.metrics import classification_report, confusion_matrix, accuracy_score\n",
        "from sklearn.model_selection import GridSearchCV\n",
        "from sklearn.preprocessing import StandardScaler\n",
        "from sklearn.svm import SVC\n",
        "from sklearn.metrics import classification_report, accuracy_score"
      ],
      "metadata": {
        "id": "te0-wYIXu2QO"
      },
      "execution_count": 111,
      "outputs": []
    },
    {
      "cell_type": "code",
      "source": [
        "# Suponiendo que 'dF_encoded' es tu DataFrame con las variables predictoras ('X') y la variable objetivo ('y')\n",
        "X = df_encoded.drop(['HELADA'], axis=1)\n",
        "y = df_encoded['HELADA']  # Variable objetivo binaria (1 si es un evento extremo, 0 si no lo es)\n",
        "##########PREGUNTA PARA DARWIN \" SI EN MI x ESTOY QUITANDO EL CONJUNTO MIS HELADAS, COMO EL MODELO VA ENTRENAR Y PREDECIR ?\""
      ],
      "metadata": {
        "id": "365mrT8bua6h"
      },
      "execution_count": 112,
      "outputs": []
    },
    {
      "cell_type": "code",
      "source": [
        "from sklearn.preprocessing import StandardScaler\n",
        "\n",
        "scaler = StandardScaler()\n",
        "X_scaled = scaler.fit_transform(X)"
      ],
      "metadata": {
        "id": "T0ZCtrFduMcN"
      },
      "execution_count": 113,
      "outputs": []
    },
    {
      "cell_type": "code",
      "source": [
        "# Dividir los datos en entrenamiento y prueba\n",
        "X_train, X_test, y_train, y_test = train_test_split(X, y, test_size=0.3, random_state=42)"
      ],
      "metadata": {
        "id": "kDOgS1tTuUmu"
      },
      "execution_count": 125,
      "outputs": []
    },
    {
      "cell_type": "code",
      "source": [
        "#Extrayendo el dataset training and  test\n",
        "Extract_X_train = X_train.copy()\n",
        "Extract_X_test = X_test.copy()\n",
        "Extract_Y_train = y_train.copy()\n",
        "Extract_Y_test = y_test.copy()"
      ],
      "metadata": {
        "id": "0INSJa6gwLKn"
      },
      "execution_count": 129,
      "outputs": []
    },
    {
      "cell_type": "code",
      "source": [
        "print(Extract_Y_train.head())\n"
      ],
      "metadata": {
        "colab": {
          "base_uri": "https://localhost:8080/"
        },
        "id": "lP5WXZCjxIr-",
        "outputId": "b5b81945-061c-4efa-b674-219fbb67a106"
      },
      "execution_count": 136,
      "outputs": [
        {
          "output_type": "stream",
          "name": "stdout",
          "text": [
            "73      0\n",
            "420     0\n",
            "2005    0\n",
            "1888    0\n",
            "3608    0\n",
            "Name: HELADA, dtype: int64\n"
          ]
        }
      ]
    },
    {
      "cell_type": "code",
      "source": [
        "print(Extract_X_test )"
      ],
      "metadata": {
        "colab": {
          "base_uri": "https://localhost:8080/"
        },
        "id": "nyelPfTlx3A0",
        "outputId": "71407f3c-78af-4dad-b69c-63e37effaefb"
      },
      "execution_count": 137,
      "outputs": [
        {
          "output_type": "stream",
          "name": "stdout",
          "text": [
            "      TMAX  TMIN  PRECIPITACION  HUMEDAD  ALTITUD    LATITUD   LONGITUD  \\\n",
            "5444  19.0   9.5            4.0     99.0     3360  12.038333  75.338056   \n",
            "4361  23.2   5.4            0.3     60.0     3360  12.038333  75.338056   \n",
            "1084  18.6   7.0            6.9     65.0     3360  12.038333  75.338056   \n",
            "896   19.8  -0.4            0.0     56.0     3360  12.038333  75.338056   \n",
            "3227  22.0   2.6            0.0     53.0     3360  12.038333  75.338056   \n",
            "...    ...   ...            ...      ...      ...        ...        ...   \n",
            "2600  19.8   6.5            0.0     69.0     3360  12.038333  75.338056   \n",
            "3942  20.8   6.2            2.1     51.0     3360  12.038333  75.338056   \n",
            "3773  19.8   2.8            0.0     63.0     3360  12.038333  75.338056   \n",
            "4880  21.0   6.0            2.4     58.0     3360  12.038333  75.338056   \n",
            "4982  22.4  -2.7            0.0     60.0     3360  12.038333  75.338056   \n",
            "\n",
            "      day_1  day_2  day_3  ...  year_2014  year_2015  year_2016  year_2017  \\\n",
            "5444    1.0    0.0    0.0  ...        0.0        0.0        0.0        0.0   \n",
            "4361    0.0    0.0    0.0  ...        0.0        0.0        0.0        0.0   \n",
            "1084    0.0    0.0    0.0  ...        0.0        0.0        0.0        0.0   \n",
            "896     0.0    0.0    0.0  ...        0.0        0.0        0.0        0.0   \n",
            "3227    0.0    0.0    0.0  ...        0.0        0.0        0.0        1.0   \n",
            "...     ...    ...    ...  ...        ...        ...        ...        ...   \n",
            "2600    0.0    0.0    0.0  ...        0.0        0.0        1.0        0.0   \n",
            "3942    0.0    0.0    0.0  ...        0.0        0.0        0.0        0.0   \n",
            "3773    0.0    0.0    0.0  ...        0.0        0.0        0.0        0.0   \n",
            "4880    0.0    0.0    0.0  ...        0.0        0.0        0.0        0.0   \n",
            "4982    0.0    0.0    0.0  ...        0.0        0.0        0.0        0.0   \n",
            "\n",
            "      year_2018  year_2019  year_2020  year_2021  year_2022  year_2023  \n",
            "5444        0.0        0.0        0.0        0.0        0.0        1.0  \n",
            "4361        0.0        0.0        1.0        0.0        0.0        0.0  \n",
            "1084        0.0        0.0        0.0        0.0        0.0        0.0  \n",
            "896         0.0        0.0        0.0        0.0        0.0        0.0  \n",
            "3227        0.0        0.0        0.0        0.0        0.0        0.0  \n",
            "...         ...        ...        ...        ...        ...        ...  \n",
            "2600        0.0        0.0        0.0        0.0        0.0        0.0  \n",
            "3942        0.0        1.0        0.0        0.0        0.0        0.0  \n",
            "3773        0.0        1.0        0.0        0.0        0.0        0.0  \n",
            "4880        0.0        0.0        0.0        0.0        1.0        0.0  \n",
            "4982        0.0        0.0        0.0        0.0        1.0        0.0  \n",
            "\n",
            "[1643 rows x 65 columns]\n"
          ]
        }
      ]
    },
    {
      "cell_type": "markdown",
      "source": [
        "# Nueva sección"
      ],
      "metadata": {
        "id": "fd0-F7xjr3yK"
      }
    },
    {
      "cell_type": "code",
      "source": [],
      "metadata": {
        "id": "orYVH6qkrmfO"
      },
      "execution_count": null,
      "outputs": []
    },
    {
      "cell_type": "code",
      "source": [],
      "metadata": {
        "id": "FZWLisvTuf8L"
      },
      "execution_count": null,
      "outputs": []
    },
    {
      "cell_type": "code",
      "source": [],
      "metadata": {
        "id": "lhbnzpgDuizG"
      },
      "execution_count": null,
      "outputs": []
    },
    {
      "cell_type": "code",
      "source": [],
      "metadata": {
        "id": "s_5DNAnuunae"
      },
      "execution_count": null,
      "outputs": []
    },
    {
      "cell_type": "code",
      "source": [],
      "metadata": {
        "id": "ZQ2AiZwNusOp"
      },
      "execution_count": null,
      "outputs": []
    },
    {
      "cell_type": "code",
      "source": [],
      "metadata": {
        "id": "zeFFblMnuu3d"
      },
      "execution_count": null,
      "outputs": []
    },
    {
      "cell_type": "code",
      "source": [],
      "metadata": {
        "id": "859AMC6cuyah"
      },
      "execution_count": null,
      "outputs": []
    },
    {
      "cell_type": "code",
      "source": [],
      "metadata": {
        "id": "y6C9He0OuzWQ"
      },
      "execution_count": null,
      "outputs": []
    },
    {
      "cell_type": "code",
      "source": [],
      "metadata": {
        "id": "d0vrlIx-v_ns"
      },
      "execution_count": null,
      "outputs": []
    },
    {
      "cell_type": "code",
      "source": [],
      "metadata": {
        "id": "6UBPqKFzwCEB"
      },
      "execution_count": null,
      "outputs": []
    },
    {
      "cell_type": "code",
      "source": [],
      "metadata": {
        "id": "pq22s7eMwFYs"
      },
      "execution_count": null,
      "outputs": []
    },
    {
      "cell_type": "code",
      "source": [
        "\n"
      ],
      "metadata": {
        "id": "Bp4uBm4YwMnz"
      },
      "execution_count": null,
      "outputs": []
    },
    {
      "cell_type": "code",
      "source": [],
      "metadata": {
        "id": "de5XT81uwO-h"
      },
      "execution_count": null,
      "outputs": []
    }
  ]
}